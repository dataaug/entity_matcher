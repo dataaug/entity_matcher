{
 "cells": [
  {
   "cell_type": "code",
   "execution_count": 1,
   "id": "dde40ae5",
   "metadata": {},
   "outputs": [],
   "source": [
    "import jieba\n",
    "from tqdm import tqdm\n",
    "import jieba.posseg as pseg"
   ]
  },
  {
   "cell_type": "markdown",
   "id": "eaca328a",
   "metadata": {},
   "source": [
    "# 预处理"
   ]
  },
  {
   "cell_type": "code",
   "execution_count": 2,
   "id": "1733e97f",
   "metadata": {},
   "outputs": [],
   "source": [
    "# 根据外部语料和词典 统计用户词典的词频\n",
    "# 外部语料无格式限定，仅用于统计词频，用户词典一行一词\n",
    "# 分别命名为 outer_text.txt user_dict.txt\n",
    "with open('user_dict.txt', 'r') as fr:\n",
    "    dict_words = fr.readlines()\n",
    "    dict_words = [word.strip().replace(' ','_') for word in dict_words] # 空格改为下划线, 否则jieba无法识别\n",
    "    \n",
    "with open('outer_text.txt', 'r') as fr:\n",
    "    text = fr.read()\n"
   ]
  },
  {
   "cell_type": "code",
   "execution_count": 3,
   "id": "396455cd",
   "metadata": {},
   "outputs": [
    {
     "name": "stderr",
     "output_type": "stream",
     "text": [
      "100%|█████████████████████████████████████████████████████████████████████████████████████████████████████████████████████████████████████████████████████████████████████████████████████████████████████████████████████████████████████████████████████████████████████████████████████████████████████████████████████████████████| 30416/30416 [16:27<00:00, 30.81it/s]\n"
     ]
    }
   ],
   "source": [
    "# 统计用户词典在语料中出现的词频\n",
    "word_shownum = []\n",
    "for word in tqdm(dict_words):\n",
    "    word_shownum.append( (word, text.count(word)) )"
   ]
  },
  {
   "cell_type": "code",
   "execution_count": 4,
   "id": "8e9f5d98",
   "metadata": {},
   "outputs": [],
   "source": [
    "# 按照jieba需要的格式写入文件，注意词性可以不填，这里全部以普调名词'n'作为示例\n",
    "word_shownum.sort(key = lambda x: x[1], reverse = True)\n",
    "with open('user_dict_tmp.txt', 'w') as fw:\n",
    "    for item in word_shownum:\n",
    "        fw.write(item[0] + ' ' + str(item[1]) + ' ' + 'n' + '\\n')"
   ]
  },
  {
   "cell_type": "code",
   "execution_count": 5,
   "id": "dee084cc",
   "metadata": {},
   "outputs": [
    {
     "data": {
      "text/plain": [
       "[('淘宝', 31117),\n",
       " ('京东', 19630),\n",
       " ('淘宝特价', 12609),\n",
       " ('得物', 8793),\n",
       " ('快手', 8229),\n",
       " ('华为', 7387),\n",
       " ('老板', 5833),\n",
       " ('支付宝', 5705),\n",
       " ('极速版', 4885),\n",
       " ('饿了么', 4067)]"
      ]
     },
     "execution_count": 5,
     "metadata": {},
     "output_type": "execute_result"
    }
   ],
   "source": [
    "word_shownum[:10]"
   ]
  },
  {
   "cell_type": "code",
   "execution_count": 6,
   "id": "485e728c",
   "metadata": {},
   "outputs": [
    {
     "name": "stderr",
     "output_type": "stream",
     "text": [
      "Building prefix dict from the default dictionary ...\n",
      "Loading model from cache /var/folders/q8/stvv_bwn0hz6fw4p66mwn1lm0000gn/T/jieba.cache\n",
      "Loading model cost 0.460 seconds.\n",
      "Prefix dict has been built successfully.\n"
     ]
    }
   ],
   "source": [
    "# 加载字典\n",
    "jieba.load_userdict('user_dict_tmp.txt')"
   ]
  },
  {
   "cell_type": "code",
   "execution_count": 7,
   "id": "940f9bc2",
   "metadata": {},
   "outputs": [
    {
     "name": "stdout",
     "output_type": "stream",
     "text": [
      "[pair('淘宝', 'n'), pair('京东', 'n'), pair('淘宝特价', 'n'), pair('得物', 'n'), pair('快手', 'n'), pair('老板', 'n'), pair('支付宝', 'n')]\n"
     ]
    }
   ],
   "source": [
    "# 分词示例\n",
    "words = pseg.cut('淘宝京东淘宝特价得物快手老板支付宝')\n",
    "print(list(words))"
   ]
  },
  {
   "cell_type": "code",
   "execution_count": 11,
   "id": "7cab705f",
   "metadata": {},
   "outputs": [],
   "source": [
    "# 构建NER函数\n",
    "entity_set = set(dict_words)\n",
    "\n",
    "def NER_by_Dict(sent):\n",
    "    words = pseg.cut(sent)\n",
    "    for word, flag in words:\n",
    "        # print(word, flag)\n",
    "        # print(word in entity_set)\n",
    "        if flag == 'n' and word in entity_set: # 判断为实体\n",
    "            \n",
    "            sent = sent.replace(word, '{实体}', 1)\n",
    "    return sent  "
   ]
  },
  {
   "cell_type": "code",
   "execution_count": 12,
   "id": "33aad9ab",
   "metadata": {},
   "outputs": [
    {
     "name": "stdout",
     "output_type": "stream",
     "text": [
      "{实体}来袭 ，还不赶紧来抢购\n"
     ]
    }
   ],
   "source": [
    "# 测试\n",
    "print(NER_by_Dict('淘宝特价来袭 ，还不赶紧来抢购'))"
   ]
  }
 ],
 "metadata": {
  "kernelspec": {
   "display_name": "Python 3 (ipykernel)",
   "language": "python",
   "name": "python3"
  },
  "language_info": {
   "codemirror_mode": {
    "name": "ipython",
    "version": 3
   },
   "file_extension": ".py",
   "mimetype": "text/x-python",
   "name": "python",
   "nbconvert_exporter": "python",
   "pygments_lexer": "ipython3",
   "version": "3.9.12"
  }
 },
 "nbformat": 4,
 "nbformat_minor": 5
}
